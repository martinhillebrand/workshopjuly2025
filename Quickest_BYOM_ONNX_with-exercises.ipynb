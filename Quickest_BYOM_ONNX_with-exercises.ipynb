{
 "cells": [
  {
   "cell_type": "markdown",
   "id": "566f2242-7fa7-4bf5-be69-0269f6010913",
   "metadata": {},
   "source": [
    "<header>\n",
    "   <p  style='font-size:36px;font-family:Arial; color:#F0F0F0; background-color: #00233c; padding-left: 20pt; padding-top: 20pt;padding-bottom: 10pt; padding-right: 20pt;'>\n",
    "       Deploy a Classification Pipeline with BYOM & ONNX in 5 minutes\n",
    " <br>       \n",
    "       <img id=\"teradata-logo\" src=\"https://storage.googleapis.com/clearscape_analytics_demo_data/DEMO_Logo/teradata.svg\" alt=\"Teradata\" style=\"width: 150px; height: auto; margin-top: 20pt;\">\n",
    "  <br>\n",
    "    </p>\n",
    "</header>"
   ]
  },
  {
   "cell_type": "markdown",
   "id": "0b463c94-9b39-4865-b9b3-87cce3ded8f6",
   "metadata": {},
   "source": [
    "<p style = 'font-size:20px;font-family:Arial'><b>Introduction</b></p>\n",
    "\n",
    "<p style = 'font-size:16px;font-family:Arial'>\n",
    "   In this demo, we will demonstrate how to train and deploy a classification Pipeline using sklearn Preprocessing and Classification Algorithm through conversion to ONNX and deployment in-DB with Bring Your Own Model.\n",
    "       </p>"
   ]
  },
  {
   "cell_type": "markdown",
   "id": "e235b158-ac6d-4d10-86df-11d64d81f189",
   "metadata": {},
   "source": [
    "<hr style=\"height:2px;border:none;\">\n",
    "\n",
    "<p style = 'font-size:20px;font-family:Arial;'><b>1. Connect to Vantage</b></p>\n",
    "<p style = 'font-size:16px;font-family:Arial;'>In the section, we import the required libraries and set environment variables and environment paths (if required).</p>"
   ]
  },
  {
   "cell_type": "code",
   "execution_count": null,
   "id": "d02f957a-e16a-4652-921d-875c1879f5e7",
   "metadata": {},
   "outputs": [],
   "source": [
    "import warnings\n",
    "warnings.filterwarnings('ignore')\n",
    "\n",
    "import getpass\n",
    "\n",
    "import teradataml as tdml\n",
    "try:\n",
    "    tdml.display.enable_ui = False # just display the normal DataFrame, available from version 20.00.00.04\n",
    "except:\n",
    "    pass"
   ]
  },
  {
   "cell_type": "markdown",
   "id": "e7be28b0-8258-498d-8f27-e4ee2a00ee75",
   "metadata": {},
   "source": [
    "<p style = 'font-size:16px;font-family:Arial;'>We will be prompted to provide the password. We will enter the password, press the Enter key, and then use the down arrow to go to the next cell. Begin running steps with Shift + Enter keys.</p>"
   ]
  },
  {
   "cell_type": "code",
   "execution_count": null,
   "id": "933e5f21-ad89-4742-a8dc-1fef456973d3",
   "metadata": {},
   "outputs": [],
   "source": [
    "password = getpass.getpass(\"Enter Password\")\n",
    "eng = tdml.create_context(host = 'host.docker.internal', username = 'demo_user', password = password)"
   ]
  },
  {
   "cell_type": "code",
   "execution_count": null,
   "id": "fc921395-ecf3-4be6-b4e3-af3512faabba",
   "metadata": {},
   "outputs": [],
   "source": [
    "%%capture\n",
    "tdml.execute_sql('''SET query_band='DEMO=PP_Recipe_BYOM.ipynb;' UPDATE FOR SESSION; ''')"
   ]
  },
  {
   "cell_type": "markdown",
   "id": "b01e6d8c-1573-4cab-8ac9-16bc905f8107",
   "metadata": {},
   "source": [
    "<hr style=\"height:2px;border:none;\">\n",
    "<p style = 'font-size:20px;font-family:Arial;'><b>2. Getting Data for This Demo</b></p>\n",
    "<p style = 'font-size:16px;font-family:Arial;'>The focus is in this notebook is a recipe, i.e. a generic approach. Hence we will use the famous Titanic dataset.</p>   \n"
   ]
  },
  {
   "cell_type": "markdown",
   "id": "eb9e51c9",
   "metadata": {},
   "source": [
    "<br><br><div style=\"border-radius: 15px 15px 0 0; background: #a8d5e2; padding: 10px;\"></div>"
   ]
  },
  {
   "cell_type": "code",
   "execution_count": null,
   "id": "ad2038ad",
   "metadata": {},
   "outputs": [],
   "source": [
    "from sklearn.datasets import fetch_openml  \n",
    "df = fetch_openml('titanic', version=1, as_frame=True)['frame'] \n",
    "\n",
    "tdml.copy_to_sql(\n",
    "    df.reset_index().rename(columns={\"index\": \"row_id\"})[\n",
    "        [\n",
    "            'row_id',\n",
    "            'survived',\n",
    "            'sex',\n",
    "            'embarked',\n",
    "            'pclass',\n",
    "            'age',\n",
    "            'sibsp',\n",
    "            'parch',\n",
    "            'fare'\n",
    "        ]\n",
    "    ],\n",
    "    \"titanic_input\",\n",
    "    if_exists=\"___\",  # Specify the action that we want to overwrite if it exists. one of: {'fail', 'replace', 'append'}\n",
    "    primary_index=\"___\"  # Define the primary index for the table, ideally a variable with a distinct value for each row.\n",
    ")"
   ]
  },
  {
   "cell_type": "markdown",
   "id": "1fe05f6a",
   "metadata": {},
   "source": [
    "<details>\n",
    "  <summary style=\"font-weight:bold; color:#9b870c;\">Hint</summary>\n",
    "  <div style=\"background-color:#fff9db; padding:10px; border-radius:5px; margin-top:5px;\">\n",
    "\n",
    "1. Hint: What is a synonym for overwrite? It is one of: {'fail', 'replace', 'append'}\n",
    "2. Hint: This is the column that uniquely identifies each row.\n",
    "  </div>\n",
    "</details>"
   ]
  },
  {
   "cell_type": "markdown",
   "id": "1214948c",
   "metadata": {},
   "source": [
    "<details>\n",
    "  <summary style=\"font-weight:bold; color:#0c9b3b;\">Solution</summary>\n",
    "  <div style=\"background-color:#dbffdb; padding:10px; border-radius:5px; margin-top:5px;\">\n",
    "\n",
    "```python\n",
    "from sklearn.datasets import fetch_openml\n",
    "df = fetch_openml('titanic', version=1, as_frame=True)['frame']\n",
    "\n",
    "tdml.copy_to_sql(\n",
    "    df.reset_index().rename(columns={\"index\": \"row_id\"})[\n",
    "        [\n",
    "            'row_id',\n",
    "            'survived',\n",
    "            'sex',\n",
    "            'embarked',\n",
    "            'pclass',\n",
    "            'age',\n",
    "            'sibsp',\n",
    "            'parch',\n",
    "            'fare'\n",
    "        ]\n",
    "    ],\n",
    "    \"titanic_input\",\n",
    "    if_exists=\"replace\",\n",
    "    primary_index=\"row_id\"\n",
    ")\n",
    "```\n",
    "  </div>\n",
    "</details>"
   ]
  },
  {
   "cell_type": "markdown",
   "id": "40145d9e",
   "metadata": {},
   "source": [
    "<div style=\" border-radius: 0 0 15px 15px ; background: #a8d5e2; padding: 10px;\"></div><br><br>"
   ]
  },
  {
   "cell_type": "markdown",
   "id": "47a960a6-589a-4d21-b46e-2571e03ef66d",
   "metadata": {},
   "source": [
    "<hr style=\"height:2px;border:none;\">\n",
    "\n",
    "<p style = 'font-size:20px;font-family:Arial'><b>3. Model Pipeline Fitting </b></p>\n",
    "\n",
    "<p style = 'font-size:16px;font-family:Arial'>We will use SimpleImputer for numeric variables, OneHotEncoder for categorical variables, and a RandomForestClassifier as the actual model.</p>"
   ]
  },
  {
   "cell_type": "markdown",
   "id": "5fbce9f3",
   "metadata": {},
   "source": [
    "<br><br><div style=\"border-radius: 15px 15px 0 0; background: #a8d5e2; padding: 10px;\"></div>"
   ]
  },
  {
   "cell_type": "code",
   "execution_count": null,
   "id": "b942f182",
   "metadata": {},
   "outputs": [],
   "source": [
    "DF_Titanic = tdml.DataFrame(\"___\")  # Create a DataFrame from the SQL table we have just created\n",
    "DF_Titanic"
   ]
  },
  {
   "cell_type": "markdown",
   "id": "3a59640b",
   "metadata": {},
   "source": [
    "<details>\n",
    "  <summary style=\"font-weight:bold; color:#9b870c;\">Hint</summary>\n",
    "  <div style=\"background-color:#fff9db; padding:10px; border-radius:5px; margin-top:5px;\">\n",
    "\n",
    "1. Hint: This should be the name of the table you just created in the database.\n",
    "  </div>\n",
    "</details>"
   ]
  },
  {
   "cell_type": "markdown",
   "id": "1e0859fc",
   "metadata": {},
   "source": [
    "<details>\n",
    "  <summary style=\"font-weight:bold; color:#0c9b3b;\">Solution</summary>\n",
    "  <div style=\"background-color:#dbffdb; padding:10px; border-radius:5px; margin-top:5px;\">\n",
    "\n",
    "```python\n",
    "DF_Titanic = tdml.DataFrame(\"titanic_input\")\n",
    "DF_Titanic\n",
    "```\n",
    "  </div>\n",
    "</details>"
   ]
  },
  {
   "cell_type": "markdown",
   "id": "291d4d68",
   "metadata": {},
   "source": [
    "<div style=\" border-radius: 0 0 15px 15px ; background: #a8d5e2; padding: 10px;\"></div><br><br>"
   ]
  },
  {
   "cell_type": "code",
   "execution_count": null,
   "id": "051e9c3d-b3f6-4082-9602-d608f155c574",
   "metadata": {},
   "outputs": [],
   "source": [
    "DF_Titanic.tdtypes"
   ]
  },
  {
   "cell_type": "markdown",
   "id": "0abc2f62",
   "metadata": {},
   "source": [
    "<br><br><div style=\"border-radius: 15px 15px 0 0; background: #a8d5e2; padding: 10px;\"></div>"
   ]
  },
  {
   "cell_type": "code",
   "execution_count": null,
   "id": "23201fc3",
   "metadata": {},
   "outputs": [],
   "source": [
    "df_titanic = DF_Titanic.___()  # Convert the DataFrame to a pandas DataFrame\n",
    "df_titanic.head()"
   ]
  },
  {
   "cell_type": "markdown",
   "id": "f9e85d2d",
   "metadata": {},
   "source": [
    "<details>\n",
    "  <summary style=\"font-weight:bold; color:#9b870c;\">Hint</summary>\n",
    "  <div style=\"background-color:#fff9db; padding:10px; border-radius:5px; margin-top:5px;\">\n",
    "\n",
    "1. Hint: the method name is `to_pandas`\n",
    "  </div>\n",
    "</details>"
   ]
  },
  {
   "cell_type": "markdown",
   "id": "38395f72",
   "metadata": {},
   "source": [
    "<details>\n",
    "  <summary style=\"font-weight:bold; color:#0c9b3b;\">Solution</summary>\n",
    "  <div style=\"background-color:#dbffdb; padding:10px; border-radius:5px; margin-top:5px;\">\n",
    "\n",
    "```python\n",
    "df_titanic = DF_Titanic.to_pandas()\n",
    "df_titanic.head()\n",
    "```\n",
    "  </div>\n",
    "</details>"
   ]
  },
  {
   "cell_type": "markdown",
   "id": "c8865fef",
   "metadata": {},
   "source": [
    "<div style=\" border-radius: 0 0 15px 15px ; background: #a8d5e2; padding: 10px;\"></div><br><br>"
   ]
  },
  {
   "cell_type": "markdown",
   "id": "c7258467",
   "metadata": {},
   "source": [
    "<br><br><div style=\"border-radius: 15px 15px 0 0; background: #a8d5e2; padding: 10px;\"></div>"
   ]
  },
  {
   "cell_type": "code",
   "execution_count": null,
   "id": "aef237fa",
   "metadata": {},
   "outputs": [],
   "source": [
    "from sklearn.pipeline import Pipeline\n",
    "from sklearn.compose import ColumnTransformer\n",
    "from sklearn.preprocessing import OneHotEncoder\n",
    "from sklearn.impute import SimpleImputer\n",
    "from sklearn.ensemble import RandomForestClassifier\n",
    "from sklearn.model_selection import train_test_split\n",
    "\n",
    "# Drop rows with missing target\n",
    "df = df_titanic.dropna(subset=['___'])  # Specify the target column to drop missing values\n",
    "X = df.drop(columns='___')  # Drop the target column to get features\n",
    "y = df['___']  # Define the target variable\n",
    "\n",
    "# Select features\n",
    "cat_features = ['sex', 'embarked']\n",
    "num_features = ['age', 'sibsp', 'parch', 'fare', 'pclass']\n",
    "\n",
    "# Preprocessing\n",
    "preprocessor = ColumnTransformer([\n",
    "    ('num', ___(strategy='mean'), num_features),  # Strategy for imputing numeric features\n",
    "    ('encoder', ___(handle_unknown='ignore'), cat_features)  # strategy for encoding categories\n",
    "])\n",
    "\n",
    "# Pipeline\n",
    "pipeline = Pipeline([\n",
    "    ('preprocess', preprocessor),\n",
    "    ('clf', ___(n_estimators=100, random_state=0))  # A Classification Algorithm\n",
    "])\n",
    "\n",
    "pipeline.___(X[cat_features + num_features], y) # the function call to actually train the model and the pipeline"
   ]
  },
  {
   "cell_type": "markdown",
   "id": "ab0f67bb",
   "metadata": {},
   "source": [
    "<details>\n",
    "  <summary style=\"font-weight:bold; color:#9b870c;\">Hint</summary>\n",
    "  <div style=\"background-color:#fff9db; padding:10px; border-radius:5px; margin-top:5px;\">\n",
    "\n",
    "1. Hint: This is the column name of the target variable in the dataset.\n",
    "2. Hint: This is the column name of the target variable in the dataset.\n",
    "3. Hint: This is the column name of the target variable in the dataset.\n",
    "4. Hint: Look at the import statements for the correct class name.\n",
    "5. Hint: Look at the import statements for the correct class name.\n",
    "6. Hint: Look at the import statements for the correct class name.\n",
    "7. Hint: It's a three letter verb.\n",
    "  </div>\n",
    "</details>"
   ]
  },
  {
   "cell_type": "markdown",
   "id": "548a3d5a",
   "metadata": {},
   "source": [
    "<details>\n",
    "  <summary style=\"font-weight:bold; color:#0c9b3b;\">Solution</summary>\n",
    "  <div style=\"background-color:#dbffdb; padding:10px; border-radius:5px; margin-top:5px;\">\n",
    "\n",
    "```python\n",
    "from sklearn.pipeline import Pipeline\n",
    "from sklearn.compose import ColumnTransformer\n",
    "from sklearn.preprocessing import OneHotEncoder\n",
    "from sklearn.impute import SimpleImputer\n",
    "from sklearn.ensemble import RandomForestClassifier\n",
    "from sklearn.model_selection import train_test_split\n",
    "\n",
    "# Drop rows with missing target\n",
    "df = df_titanic.dropna(subset=['survived'])\n",
    "X = df.drop(columns='survived')\n",
    "y = df['survived']\n",
    "\n",
    "# Select features\n",
    "cat_features = ['sex', 'embarked']\n",
    "num_features = ['age', 'sibsp', 'parch', 'fare', 'pclass']\n",
    "\n",
    "# Preprocessing\n",
    "preprocessor = ColumnTransformer([\n",
    "    ('num', SimpleImputer(strategy='mean'), num_features),\n",
    "    ('encoder', OneHotEncoder(handle_unknown='ignore'), cat_features)\n",
    "])\n",
    "\n",
    "# Pipeline\n",
    "pipeline = Pipeline([\n",
    "    ('preprocess', preprocessor),\n",
    "    ('clf', RandomForestClassifier(n_estimators=100, random_state=0))\n",
    "])\n",
    "\n",
    "pipeline.fit(X[cat_features + num_features], y)\n",
    "\n",
    "```\n",
    "  </div>\n",
    "</details>"
   ]
  },
  {
   "cell_type": "markdown",
   "id": "2139dc96",
   "metadata": {},
   "source": [
    "<div style=\" border-radius: 0 0 15px 15px ; background: #a8d5e2; padding: 10px;\"></div><br><br>"
   ]
  },
  {
   "cell_type": "markdown",
   "id": "f1960ad6-e88a-4f04-9a0c-aded90daa053",
   "metadata": {},
   "source": [
    "<hr style=\"height:2px;border:none;\">\n",
    "\n",
    "<p style = 'font-size:20px;font-family:Arial'><b>4. Pipeline Conversion to ONNX </b></p>\n",
    "\n",
    "        "
   ]
  },
  {
   "cell_type": "code",
   "execution_count": null,
   "id": "1405206b-7378-42fb-8ba7-c6cd00d74b09",
   "metadata": {},
   "outputs": [],
   "source": [
    "DF_Titanic.tdtypes"
   ]
  },
  {
   "cell_type": "markdown",
   "id": "5642319a",
   "metadata": {},
   "source": [
    "<br><br><div style=\"border-radius: 15px 15px 0 0; background: #a8d5e2; padding: 10px;\"></div>"
   ]
  },
  {
   "cell_type": "code",
   "execution_count": null,
   "id": "582bf9ab",
   "metadata": {},
   "outputs": [],
   "source": [
    "from skl2onnx import convert_sklearn\n",
    "from skl2onnx.common.data_types import FloatTensorType, StringTensorType\n",
    "\n",
    "initial_type = [\n",
    "    ('sex', StringTensorType([None, 1])),\n",
    "    ('embarked', ___([None, 1])), # Correct Tensor Type\n",
    "    ('pclass', FloatTensorType([None, 1])),\n",
    "    ('age', FloatTensorType([None, 1])),\n",
    "    ('sibsp', FloatTensorType([None, 1])),\n",
    "    ('parch', FloatTensorType([None, 1])), \n",
    "    ('fare', ___([None, 1])) # Correct Tensor Type\n",
    "]\n",
    "\n",
    "# Convert and save\n",
    "onnx_model = convert_sklearn(___, initial_types=initial_type)  # Convert the pipeline to ONNX format\n",
    "with open(\"titanic_pipeline.onnx\", \"wb\") as f:\n",
    "    f.write(onnx_model.SerializeToString()) "
   ]
  },
  {
   "cell_type": "markdown",
   "id": "26a74779",
   "metadata": {},
   "source": [
    "<details>\n",
    "  <summary style=\"font-weight:bold; color:#9b870c;\">Hint</summary>\n",
    "  <div style=\"background-color:#fff9db; padding:10px; border-radius:5px; margin-top:5px;\">\n",
    "\n",
    "1. Hint: Have a look at the tdtypes output\n",
    "2. Hint: Have a look at the tdtypes output\n",
    "  </div>\n",
    "</details>"
   ]
  },
  {
   "cell_type": "markdown",
   "id": "d2a50433",
   "metadata": {},
   "source": [
    "<details>\n",
    "  <summary style=\"font-weight:bold; color:#0c9b3b;\">Solution</summary>\n",
    "  <div style=\"background-color:#dbffdb; padding:10px; border-radius:5px; margin-top:5px;\">\n",
    "\n",
    "```python\n",
    "from skl2onnx import convert_sklearn\n",
    "from skl2onnx.common.data_types import FloatTensorType, StringTensorType\n",
    "\n",
    "initial_type = [\n",
    "    ('sex', StringTensorType([None, 1])),\n",
    "    ('embarked', StringTensorType([None, 1])),\n",
    "    ('pclass', FloatTensorType([None, 1])),\n",
    "    ('age', FloatTensorType([None, 1])),\n",
    "    ('sibsp', FloatTensorType([None, 1])),\n",
    "    ('parch', FloatTensorType([None, 1])),\n",
    "    ('fare', FloatTensorType([None, 1]))\n",
    "]\n",
    "\n",
    "# Convert and save\n",
    "onnx_model = convert_sklearn(pipeline, initial_types=initial_type)\n",
    "with open(\"titanic_pipeline.onnx\", \"wb\") as f:\n",
    "    f.write(onnx_model.SerializeToString())\n",
    "\n",
    "```\n",
    "  </div>\n",
    "</details>"
   ]
  },
  {
   "cell_type": "markdown",
   "id": "156c25dc",
   "metadata": {},
   "source": [
    "<div style=\" border-radius: 0 0 15px 15px ; background: #a8d5e2; padding: 10px;\"></div><br><br>"
   ]
  },
  {
   "cell_type": "markdown",
   "id": "e1b0b767-08b0-463c-9952-dd21e93a58ad",
   "metadata": {},
   "source": [
    "<hr style=\"height:2px;border:none;\">\n",
    "\n",
    "<p style = 'font-size:20px;font-family:Arial'><b>5. Inference with Bring Your Own Model (BYOM) function ONNXPredict </b></p>\n"
   ]
  },
  {
   "cell_type": "code",
   "execution_count": null,
   "id": "83b720c8-6c6d-4438-b0ea-10f338b522cc",
   "metadata": {},
   "outputs": [],
   "source": [
    "tdml.configure.byom_install_location = \"mldb\""
   ]
  },
  {
   "cell_type": "code",
   "execution_count": null,
   "id": "6c68e179-5534-4bcf-be7b-b3bf91a0f5a3",
   "metadata": {},
   "outputs": [],
   "source": [
    "model_table_name = \"titanic_model_table\"\n",
    "model_id = \"rf_pipeline_titanic\""
   ]
  },
  {
   "cell_type": "code",
   "execution_count": null,
   "id": "f0fa6d60-88e3-4b6d-be48-290b36ecfc94",
   "metadata": {},
   "outputs": [],
   "source": [
    "try:\n",
    "    tdml.db_drop_table(model_table_name)\n",
    "except:\n",
    "    pass"
   ]
  },
  {
   "cell_type": "markdown",
   "id": "ab4a2dd1",
   "metadata": {},
   "source": [
    "<br><br><div style=\"border-radius: 15px 15px 0 0; background: #a8d5e2; padding: 10px;\"></div>"
   ]
  },
  {
   "cell_type": "code",
   "execution_count": null,
   "id": "579a23ea",
   "metadata": {},
   "outputs": [],
   "source": [
    "tdml.save_byom(___, \"titanic_pipeline.onnx\", table_name = ___)  # Set the two parameters correctly"
   ]
  },
  {
   "cell_type": "markdown",
   "id": "ca60c309",
   "metadata": {},
   "source": [
    "<details>\n",
    "  <summary style=\"font-weight:bold; color:#9b870c;\">Hint</summary>\n",
    "  <div style=\"background-color:#fff9db; padding:10px; border-radius:5px; margin-top:5px;\">\n",
    "\n",
    "1. Hint: You can get the parameter names by using shift+tab\n",
    "2. Hint: You have set the variable already\n",
    "  </div>\n",
    "</details>"
   ]
  },
  {
   "cell_type": "markdown",
   "id": "b30ecc95",
   "metadata": {},
   "source": [
    "<details>\n",
    "  <summary style=\"font-weight:bold; color:#0c9b3b;\">Solution</summary>\n",
    "  <div style=\"background-color:#dbffdb; padding:10px; border-radius:5px; margin-top:5px;\">\n",
    "\n",
    "```python\n",
    "tdml.save_byom(model_id, \"titanic_pipeline.onnx\", table_name = model_table_name)\n",
    "```\n",
    "  </div>\n",
    "</details>"
   ]
  },
  {
   "cell_type": "markdown",
   "id": "7843d03b",
   "metadata": {},
   "source": [
    "<div style=\" border-radius: 0 0 15px 15px ; background: #a8d5e2; padding: 10px;\"></div><br><br>"
   ]
  },
  {
   "cell_type": "markdown",
   "id": "3d83f48e",
   "metadata": {},
   "source": [
    "<br><br><div style=\"border-radius: 15px 15px 0 0; background: #a8d5e2; padding: 10px;\"></div>"
   ]
  },
  {
   "cell_type": "code",
   "execution_count": null,
   "id": "18fb4229",
   "metadata": {},
   "outputs": [],
   "source": [
    "tdml.___(model_table_name)  # Inspect the model table"
   ]
  },
  {
   "cell_type": "markdown",
   "id": "6d6e1a1b",
   "metadata": {},
   "source": [
    "<details>\n",
    "  <summary style=\"font-weight:bold; color:#9b870c;\">Hint</summary>\n",
    "  <div style=\"background-color:#fff9db; padding:10px; border-radius:5px; margin-top:5px;\">\n",
    "\n",
    "1. Hint: teradataml has got a DataFrame API.\n",
    "  </div>\n",
    "</details>"
   ]
  },
  {
   "cell_type": "markdown",
   "id": "9fd9414b",
   "metadata": {},
   "source": [
    "<details>\n",
    "  <summary style=\"font-weight:bold; color:#0c9b3b;\">Solution</summary>\n",
    "  <div style=\"background-color:#dbffdb; padding:10px; border-radius:5px; margin-top:5px;\">\n",
    "\n",
    "```python\n",
    "tdml.DataFrame(model_table_name)\n",
    "```\n",
    "  </div>\n",
    "</details>"
   ]
  },
  {
   "cell_type": "markdown",
   "id": "df031123",
   "metadata": {},
   "source": [
    "<div style=\" border-radius: 0 0 15px 15px ; background: #a8d5e2; padding: 10px;\"></div><br><br>"
   ]
  },
  {
   "cell_type": "markdown",
   "id": "49cd6589",
   "metadata": {},
   "source": [
    "<br><br><div style=\"border-radius: 15px 15px 0 0; background: #a8d5e2; padding: 10px;\"></div>"
   ]
  },
  {
   "cell_type": "code",
   "execution_count": null,
   "id": "9560c4d3",
   "metadata": {},
   "outputs": [],
   "source": [
    "onnx_predict_obj = tdml.ONNXPredict(\n",
    "    newdata=___,  # DataFrame containing the new data for prediction, for demo's sake we use the same as for training.\n",
    "    modeldata=tdml.DataFrame(___),  # DataFrame containing the model data\n",
    "    accumulate=[\"row_id\", \"survived\"],\n",
    "    overwrite_cached_models=\"TRUE\"\n",
    ")"
   ]
  },
  {
   "cell_type": "markdown",
   "id": "010bbe4c",
   "metadata": {},
   "source": [
    "<details>\n",
    "  <summary style=\"font-weight:bold; color:#9b870c;\">Hint</summary>\n",
    "  <div style=\"background-color:#fff9db; padding:10px; border-radius:5px; margin-top:5px;\">\n",
    "\n",
    "1. Hint: This is the DataFrame containing the Titanic dataset for which predictions are to be made.\n",
    "2. Hint: This is the name of the table where the model is stored, defined in a previous cell.\n",
    "  </div>\n",
    "</details>"
   ]
  },
  {
   "cell_type": "markdown",
   "id": "4bb0cc7f",
   "metadata": {},
   "source": [
    "<details>\n",
    "  <summary style=\"font-weight:bold; color:#0c9b3b;\">Solution</summary>\n",
    "  <div style=\"background-color:#dbffdb; padding:10px; border-radius:5px; margin-top:5px;\">\n",
    "\n",
    "```python\n",
    "onnx_predict_obj = tdml.ONNXPredict(\n",
    "    newdata=DF_Titanic,\n",
    "    modeldata=tdml.DataFrame(model_table_name),\n",
    "    accumulate=[\"row_id\", \"survived\"],\n",
    "    overwrite_cached_models=\"TRUE\"\n",
    ")\n",
    "```\n",
    "  </div>\n",
    "</details>"
   ]
  },
  {
   "cell_type": "markdown",
   "id": "72f96da6",
   "metadata": {},
   "source": [
    "<div style=\" border-radius: 0 0 15px 15px ; background: #a8d5e2; padding: 10px;\"></div><br><br>"
   ]
  },
  {
   "cell_type": "code",
   "execution_count": null,
   "id": "595f4976-1131-4fc2-bf9d-276f3fc83921",
   "metadata": {},
   "outputs": [],
   "source": [
    "onnx_predict_obj.result"
   ]
  },
  {
   "cell_type": "markdown",
   "id": "c2d221ac",
   "metadata": {},
   "source": [
    "<br><br><div style=\"border-radius: 15px 15px 0 0; background: #a8d5e2; padding: 10px;\"></div>"
   ]
  },
  {
   "cell_type": "code",
   "execution_count": null,
   "id": "f0a04925",
   "metadata": {},
   "outputs": [],
   "source": [
    "onnx_query = ___.show_query()  # We can get the underlying query from this object\n",
    "print(onnx_query)"
   ]
  },
  {
   "cell_type": "markdown",
   "id": "b7ec2e17",
   "metadata": {},
   "source": [
    "<details>\n",
    "  <summary style=\"font-weight:bold; color:#9b870c;\">Hint</summary>\n",
    "  <div style=\"background-color:#fff9db; padding:10px; border-radius:5px; margin-top:5px;\">\n",
    "\n",
    "1. Hint: Just look two cells above\n",
    "  </div>\n",
    "</details>"
   ]
  },
  {
   "cell_type": "markdown",
   "id": "6699c420",
   "metadata": {},
   "source": [
    "<details>\n",
    "  <summary style=\"font-weight:bold; color:#0c9b3b;\">Solution</summary>\n",
    "  <div style=\"background-color:#dbffdb; padding:10px; border-radius:5px; margin-top:5px;\">\n",
    "\n",
    "```python\n",
    "onnx_query = onnx_predict_obj.show_query()\n",
    "print(onnx_query)\n",
    "```\n",
    "  </div>\n",
    "</details>"
   ]
  },
  {
   "cell_type": "markdown",
   "id": "a07e4425",
   "metadata": {},
   "source": [
    "<div style=\" border-radius: 0 0 15px 15px ; background: #a8d5e2; padding: 10px;\"></div><br><br>"
   ]
  },
  {
   "cell_type": "markdown",
   "id": "6d8e0fec-cd16-49d5-8f1a-60b2db947416",
   "metadata": {},
   "source": [
    "<hr style=\"height:2px;border:none;\">\n",
    "\n",
    "<p style = 'font-size:20px;font-family:Arial'><b>6. Deploy Inference as View </b></p>\n",
    "\n",
    "<p style = 'font-size:16px;font-family:Arial'>\n",
    "This allows us to integrate the Inference just as another normal ETL Job.</p>"
   ]
  },
  {
   "cell_type": "code",
   "execution_count": null,
   "id": "8543fba1-16ad-4f82-a274-b2f2d0bb44b4",
   "metadata": {},
   "outputs": [],
   "source": [
    "tdml.execute_sql(f\"\"\"\n",
    "REPLACE VIEW titanic_inference_v AS\n",
    "{onnx_query}\n",
    "\"\"\")"
   ]
  },
  {
   "cell_type": "markdown",
   "id": "dc453d37",
   "metadata": {},
   "source": [
    "<br><br><div style=\"border-radius: 15px 15px 0 0; background: #a8d5e2; padding: 10px;\"></div>"
   ]
  },
  {
   "cell_type": "code",
   "execution_count": null,
   "id": "e1d9f3f0",
   "metadata": {},
   "outputs": [],
   "source": [
    "tdml.DataFrame(\"___\")  # Create a DataFrame from the inference view"
   ]
  },
  {
   "cell_type": "markdown",
   "id": "cbaff7be",
   "metadata": {},
   "source": [
    "<details>\n",
    "  <summary style=\"font-weight:bold; color:#9b870c;\">Hint</summary>\n",
    "  <div style=\"background-color:#fff9db; padding:10px; border-radius:5px; margin-top:5px;\">\n",
    "\n",
    "1. Hint: As the view was created in the previous cell, we can now built a DataFrame on top of it.\n",
    "  </div>\n",
    "</details>"
   ]
  },
  {
   "cell_type": "markdown",
   "id": "d9242611",
   "metadata": {},
   "source": [
    "<details>\n",
    "  <summary style=\"font-weight:bold; color:#0c9b3b;\">Solution</summary>\n",
    "  <div style=\"background-color:#dbffdb; padding:10px; border-radius:5px; margin-top:5px;\">\n",
    "\n",
    "```python\n",
    "tdml.DataFrame(\"titanic_inference_v\")\n",
    "```\n",
    "  </div>\n",
    "</details>"
   ]
  },
  {
   "cell_type": "markdown",
   "id": "e2868612",
   "metadata": {},
   "source": [
    "<div style=\" border-radius: 0 0 15px 15px ; background: #a8d5e2; padding: 10px;\"></div><br><br>"
   ]
  },
  {
   "cell_type": "code",
   "execution_count": null,
   "id": "bc958b66-c5b2-4739-b91e-e154350178b2",
   "metadata": {},
   "outputs": [],
   "source": [
    "tdml.DataFrame(\"titanic_inference_v\")"
   ]
  },
  {
   "cell_type": "markdown",
   "id": "6a1e1836-a045-499a-ac47-6b0a1f58c01a",
   "metadata": {},
   "source": [
    "<hr style=\"height:2px;border:none;\">\n",
    "<p style = 'font-size:20px;font-family:Arial'><b>7. Cleanup</b></p>"
   ]
  },
  {
   "cell_type": "code",
   "execution_count": null,
   "id": "fbca9b4c-bf18-4ed8-84ab-e4a1390c60de",
   "metadata": {},
   "outputs": [],
   "source": [
    "try:\n",
    "    tdml.db_drop_table(\"titanic_input\")\n",
    "except:\n",
    "     pass"
   ]
  },
  {
   "cell_type": "code",
   "execution_count": null,
   "id": "8424bceb-5dce-46af-8a51-c76ad0c70be0",
   "metadata": {},
   "outputs": [],
   "source": [
    "try:\n",
    "    tdml.db_drop_table(\"titanic_model_table\")\n",
    "except:\n",
    "     pass"
   ]
  },
  {
   "cell_type": "code",
   "execution_count": null,
   "id": "e33ad03e-d459-498e-9ddf-4d4343a77b81",
   "metadata": {},
   "outputs": [],
   "source": [
    "try:\n",
    "    tdml.db_drop_view(\"titanic_inference_v\")\n",
    "except:\n",
    "     pass"
   ]
  },
  {
   "cell_type": "code",
   "execution_count": null,
   "id": "360d0f97-3b07-4f91-bdb0-0922ca0ca089",
   "metadata": {},
   "outputs": [],
   "source": [
    "tdml.remove_context()"
   ]
  },
  {
   "cell_type": "markdown",
   "id": "9fba8bf6-1173-4a1d-baeb-6fa97d036e96",
   "metadata": {},
   "source": [
    "<hr style=\"height:1px;border:none;\">\n",
    "<p style = 'font-size:16px;font-family:Arial'><b>Dataset</b><br>We have used the Titanic dataset, available via the sklearn.datasets module. This dataset contains information on 891 passengers who were aboard the Titanic, with the goal of predicting survival outcomes. It includes a mix of numerical and categorical features such as age, sex, passenger class, number of siblings/spouses aboard, number of parents/children aboard, fare paid, and port of embarkation. The target variable indicates whether a passenger survived or not.</p>\n"
   ]
  },
  {
   "cell_type": "markdown",
   "id": "b2ef60a9-850f-4df9-b252-5f5c6cc71edd",
   "metadata": {},
   "source": [
    "<footer style=\"padding-bottom:35px; border-bottom:3px solid #91A0Ab\">\n",
    "    <div style=\"float:left;margin-top:14px\">ClearScape Analytics™</div>\n",
    "    <div style=\"float:right;\">\n",
    "        <div style=\"float:left; margin-top:14px\">\n",
    "            Copyright © Teradata Corporation - 2025. All Rights Reserved\n",
    "        </div>\n",
    "    </div>\n",
    "</footer>"
   ]
  }
 ],
 "metadata": {
  "kernelspec": {
   "display_name": "Python 3 (ipykernel)",
   "language": "python",
   "name": "python3"
  },
  "language_info": {
   "codemirror_mode": {
    "name": "ipython",
    "version": 3
   },
   "file_extension": ".py",
   "mimetype": "text/x-python",
   "name": "python",
   "nbconvert_exporter": "python",
   "pygments_lexer": "ipython3",
   "version": "3.9.10"
  }
 },
 "nbformat": 4,
 "nbformat_minor": 5
}
